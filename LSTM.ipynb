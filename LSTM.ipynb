{
  "nbformat": 4,
  "nbformat_minor": 0,
  "metadata": {
    "colab": {
      "provenance": [],
      "authorship_tag": "ABX9TyMR+YQUBd5o1t/8woLeRHd7",
      "include_colab_link": true
    },
    "kernelspec": {
      "name": "python3",
      "display_name": "Python 3"
    },
    "language_info": {
      "name": "python"
    }
  },
  "cells": [
    {
      "cell_type": "markdown",
      "metadata": {
        "id": "view-in-github",
        "colab_type": "text"
      },
      "source": [
        "<a href=\"https://colab.research.google.com/github/coderanandmaurya/ANN/blob/main/LSTM.ipynb\" target=\"_parent\"><img src=\"https://colab.research.google.com/assets/colab-badge.svg\" alt=\"Open In Colab\"/></a>"
      ]
    },
    {
      "cell_type": "code",
      "execution_count": null,
      "metadata": {
        "id": "HGCjSa3tAb5a"
      },
      "outputs": [],
      "source": [
        "import pandas as pd\n",
        "from sklearn.preprocessing import LabelEncoder\n",
        "from tensorflow.keras.preprocessing.sequence import pad_sequences\n",
        "import tensorflow as tf\n",
        "from tensorflow.keras.models import Sequential\n",
        "from tensorflow.keras.layers import LSTM, Dense\n",
        "\n",
        "# Load the dataset\n",
        "df = pd.read_csv('play_tennis.csv')\n",
        "\n",
        "# Encode categorical features\n",
        "label_encoders = {}\n",
        "for column in df.columns:\n",
        "    if df[column].dtype == type(object):\n",
        "        label_encoders[column] = LabelEncoder()\n",
        "        df[column] = label_encoders[column].fit_transform(df[column])\n",
        "\n",
        "# Prepare the data for LSTM\n",
        "X = df.drop('PlayTennis', axis=1)\n",
        "y = df['PlayTennis']\n",
        "\n",
        "# Convert to sequences\n",
        "X = pad_sequences(X.values.reshape(-1, 1, X.shape[1]), padding='post')\n",
        "\n",
        "# Define the LSTM model\n",
        "model = Sequential()\n",
        "model.add(LSTM(50, activation='relu', input_shape=(1, X.shape[2])))\n",
        "model.add(Dense(1, activation='sigmoid'))\n",
        "\n",
        "model.compile(optimizer='adam', loss='binary_crossentropy', metrics=['accuracy'])\n",
        "\n",
        "# Train the model\n",
        "model.fit(X, y, epochs=200, verbose=0)\n",
        "\n",
        "# Evaluate the model\n",
        "loss, accuracy = model.evaluate(X, y, verbose=0)\n",
        "print(f'Accuracy: {accuracy * 100:.2f}%')\n",
        "\n",
        "# Making a prediction\n",
        "sample = X[0]  # Example sample\n",
        "sample = sample.reshape((1, 1, sample.shape[2]))  # Reshape for LSTM\n",
        "prediction = model.predict(sample)\n",
        "print(f'Prediction: {\"Yes\" if prediction[0][0] > 0.5 else \"No\"}')\n"
      ]
    }
  ]
}